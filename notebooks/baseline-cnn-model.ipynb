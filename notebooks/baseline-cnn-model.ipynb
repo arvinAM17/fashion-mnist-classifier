{
 "cells": [
  {
   "cell_type": "code",
   "execution_count": 1,
   "metadata": {},
   "outputs": [],
   "source": [
    "import sys\n",
    "sys.path.append(\"..\")  # or wherever your src/ lives relative to the notebook"
   ]
  },
  {
   "cell_type": "code",
   "execution_count": 2,
   "metadata": {},
   "outputs": [],
   "source": [
    "import torch\n",
    "import torch.nn as nn\n",
    "\n",
    "from torchvision import transforms, datasets\n",
    "from torch.utils.data import DataLoader\n",
    "from torch.utils.tensorboard import SummaryWriter\n",
    "\n",
    "import matplotlib.pyplot as plt\n",
    "\n",
    "from src.models import FashionMNISTBaseline, FashionMNISTCNN\n",
    "from src.training import train_model, evaluate\n",
    "\n",
    "from pathlib import Path\n"
   ]
  },
  {
   "cell_type": "code",
   "execution_count": 3,
   "metadata": {},
   "outputs": [],
   "source": [
    "device = \"mps\" if torch.backends.mps.is_available() else \"cpu\"\n",
    "\n",
    "transform = transforms.Compose([\n",
    "    transforms.ToTensor(),  # Converts image to PyTorch tensor\n",
    "    transforms.Normalize((0.5,), (0.5,))  # Normalize to [-1, 1]\n",
    "])\n",
    "\n",
    "# Download the training and test datasets\n",
    "train_dataset = datasets.FashionMNIST(\n",
    "    root=\"../data/\",\n",
    "    train=True,\n",
    "    download=True,\n",
    "    transform=transform\n",
    ")\n",
    "\n",
    "test_dataset = datasets.FashionMNIST(\n",
    "    root=\"../data/\",\n",
    "    train=False,\n",
    "    download=True,\n",
    "    transform=transform\n",
    ")"
   ]
  },
  {
   "cell_type": "code",
   "execution_count": 4,
   "metadata": {},
   "outputs": [],
   "source": [
    "BATCH_SIZE = 64\n",
    "\n",
    "train_loader = DataLoader(train_dataset, batch_size=BATCH_SIZE, shuffle=True)\n",
    "test_loader = DataLoader(test_dataset, batch_size=BATCH_SIZE, shuffle=False)"
   ]
  },
  {
   "cell_type": "code",
   "execution_count": 5,
   "metadata": {},
   "outputs": [
    {
     "name": "stdout",
     "output_type": "stream",
     "text": [
      "Image shape: torch.Size([1, 28, 28])\n",
      "image.squeeze() shape: torch.Size([28, 28])\n"
     ]
    },
    {
     "data": {
      "text/plain": [
       "Text(0.5, 1.0, 'Ankle boot')"
      ]
     },
     "execution_count": 5,
     "metadata": {},
     "output_type": "execute_result"
    },
    {
     "data": {
      "image/png": "[encoded data removed]",
      "text/plain": [
       "<Figure size 640x480 with 1 Axes>"
      ]
     },
     "metadata": {},
     "output_type": "display_data"
    }
   ],
   "source": [
    "image, label = train_dataset[0]\n",
    "\n",
    "print(f\"Image shape: {image.shape}\")\n",
    "\n",
    "print(f\"image.squeeze() shape: {image.squeeze().shape}\")\n",
    "\n",
    "class_names = train_dataset.classes\n",
    "\n",
    "plt.imshow(image.squeeze(), cmap=\"gray\")\n",
    "plt.title(class_names[label])"
   ]
  },
  {
   "cell_type": "code",
   "execution_count": 6,
   "metadata": {},
   "outputs": [
    {
     "name": "stdout",
     "output_type": "stream",
     "text": [
      "Available device is: mps\n"
     ]
    },
    {
     "data": {
      "text/plain": [
       "FashionMNISTBaseline(\n",
       "  (stacked_layers): DoubleLinearBlock(\n",
       "    (block): Sequential(\n",
       "      (0): Flatten(start_dim=1, end_dim=-1)\n",
       "      (1): LazyLinear(in_features=0, out_features=20, bias=True)\n",
       "      (2): ReLU()\n",
       "      (3): Linear(in_features=20, out_features=10, bias=True)\n",
       "    )\n",
       "  )\n",
       ")"
      ]
     },
     "execution_count": 6,
     "metadata": {},
     "output_type": "execute_result"
    }
   ],
   "source": [
    "print(f\"Available device is: {device}\")\n",
    "base_model = FashionMNISTBaseline(\n",
    "    hidden_layers= 20, # number of units in hidden layer\n",
    "    output_dimension= len(class_names)\n",
    ")\n",
    "base_model.to(device)"
   ]
  },
  {
   "cell_type": "code",
   "execution_count": 7,
   "metadata": {},
   "outputs": [],
   "source": [
    "# define loss function and optimizers\n",
    "loss_func = nn.CrossEntropyLoss()\n",
    "optimizer = torch.optim.SGD(params=base_model.parameters(), lr=0.05, momentum=0.9)\n",
    "writer = SummaryWriter()\n"
   ]
  },
  {
   "cell_type": "code",
   "execution_count": 8,
   "metadata": {},
   "outputs": [
    {
     "name": "stdout",
     "output_type": "stream",
     "text": [
      "Epoch 1/20\n",
      "Train Loss: 0.5951, Train Accuracy: 78.92%\n",
      "Epoch 2/20\n",
      "Train Loss: 0.4712, Train Accuracy: 83.22%\n",
      "Epoch 3/20\n",
      "Train Loss: 0.4587, Train Accuracy: 83.82%\n",
      "Epoch 4/20\n",
      "Train Loss: 0.4388, Train Accuracy: 84.41%\n",
      "Epoch 5/20\n",
      "Train Loss: 0.4312, Train Accuracy: 84.70%\n",
      "Epoch 6/20\n",
      "Train Loss: 0.4186, Train Accuracy: 85.16%\n",
      "Epoch 7/20\n",
      "Train Loss: 0.4099, Train Accuracy: 85.36%\n",
      "Epoch 8/20\n",
      "Train Loss: 0.4058, Train Accuracy: 85.62%\n",
      "Epoch 9/20\n",
      "Train Loss: 0.3972, Train Accuracy: 85.80%\n",
      "Epoch 10/20\n",
      "Train Loss: 0.4028, Train Accuracy: 85.67%\n",
      "Epoch 11/20\n",
      "Train Loss: 0.4025, Train Accuracy: 85.74%\n",
      "Epoch 12/20\n",
      "Train Loss: 0.3910, Train Accuracy: 86.22%\n",
      "Epoch 13/20\n",
      "Train Loss: 0.3892, Train Accuracy: 86.13%\n",
      "Epoch 14/20\n",
      "Train Loss: 0.3868, Train Accuracy: 86.27%\n",
      "Epoch 15/20\n",
      "Train Loss: 0.3780, Train Accuracy: 86.53%\n",
      "Epoch 16/20\n",
      "Train Loss: 0.3819, Train Accuracy: 86.50%\n",
      "Epoch 17/20\n",
      "Train Loss: 0.3832, Train Accuracy: 86.43%\n",
      "Epoch 18/20\n",
      "Train Loss: 0.3792, Train Accuracy: 86.56%\n",
      "Epoch 19/20\n",
      "Train Loss: 0.3742, Train Accuracy: 86.85%\n",
      "Epoch 20/20\n",
      "Train Loss: 0.3708, Train Accuracy: 86.99%\n"
     ]
    }
   ],
   "source": [
    "train_model(\n",
    "    model=base_model,\n",
    "    train_loader=train_loader,\n",
    "    loss_func=loss_func,\n",
    "    optimizer=optimizer,\n",
    "    device=device,\n",
    "    epochs=20, \n",
    "    writer = writer\n",
    ")"
   ]
  },
  {
   "cell_type": "code",
   "execution_count": 9,
   "metadata": {},
   "outputs": [
    {
     "data": {
      "text/plain": [
       "(0.4662095071024196, 84.05)"
      ]
     },
     "execution_count": 9,
     "metadata": {},
     "output_type": "execute_result"
    }
   ],
   "source": [
    "evaluate(\n",
    "    model=base_model,\n",
    "    data_loader=test_loader,\n",
    "    loss_func=loss_func,\n",
    "    device=device\n",
    ")"
   ]
  },
  {
   "cell_type": "code",
   "execution_count": 10,
   "metadata": {},
   "outputs": [],
   "source": [
    "# Save model weights only\n",
    "save_path = Path(\"../models/fc_fashionmnist_epoch20.pth\")\n",
    "torch.save(base_model.state_dict(), save_path)"
   ]
  },
  {
   "cell_type": "code",
   "execution_count": 11,
   "metadata": {},
   "outputs": [
    {
     "name": "stdout",
     "output_type": "stream",
     "text": [
      "Available device is: mps\n"
     ]
    }
   ],
   "source": [
    "device = \"mps\" if torch.mps.is_available() else \"cpu\"\n",
    "print(f\"Available device is: {device}\")\n",
    "cnn_model = FashionMNISTCNN(\n",
    "    output_dimension=len(class_names)\n",
    ")\n",
    "cnn_model.to(device)\n",
    "\n",
    "# define loss function and optimizers\n",
    "loss_func = nn.CrossEntropyLoss()\n",
    "optimizer = torch.optim.Adam(params=cnn_model.parameters(), lr=0.001)\n",
    "writer = SummaryWriter()\n"
   ]
  },
  {
   "cell_type": "code",
   "execution_count": 13,
   "metadata": {},
   "outputs": [
    {
     "name": "stdout",
     "output_type": "stream",
     "text": [
      "Epoch 1/20\n",
      "Train Loss: 0.4482, Train Accuracy: 83.68%\n",
      "Epoch 2/20\n",
      "Train Loss: 0.2732, Train Accuracy: 89.84%\n",
      "Epoch 3/20\n",
      "Train Loss: 0.2322, Train Accuracy: 91.47%\n",
      "Epoch 4/20\n",
      "Train Loss: 0.2026, Train Accuracy: 92.42%\n",
      "Epoch 5/20\n",
      "Train Loss: 0.1770, Train Accuracy: 93.36%\n",
      "Epoch 6/20\n",
      "Train Loss: 0.1570, Train Accuracy: 94.19%\n",
      "Epoch 7/20\n",
      "Train Loss: 0.1375, Train Accuracy: 94.84%\n",
      "Epoch 8/20\n",
      "Train Loss: 0.1224, Train Accuracy: 95.39%\n",
      "Epoch 9/20\n",
      "Train Loss: 0.1029, Train Accuracy: 96.14%\n",
      "Epoch 10/20\n",
      "Train Loss: 0.0885, Train Accuracy: 96.73%\n",
      "Epoch 11/20\n",
      "Train Loss: 0.0758, Train Accuracy: 97.06%\n",
      "Epoch 12/20\n",
      "Train Loss: 0.0666, Train Accuracy: 97.56%\n",
      "Epoch 13/20\n",
      "Train Loss: 0.0590, Train Accuracy: 97.84%\n",
      "Epoch 14/20\n",
      "Train Loss: 0.0535, Train Accuracy: 98.00%\n",
      "Epoch 15/20\n",
      "Train Loss: 0.0487, Train Accuracy: 98.22%\n",
      "Epoch 16/20\n",
      "Train Loss: 0.0439, Train Accuracy: 98.36%\n",
      "Epoch 17/20\n",
      "Train Loss: 0.0423, Train Accuracy: 98.46%\n",
      "Epoch 18/20\n",
      "Train Loss: 0.0355, Train Accuracy: 98.67%\n",
      "Epoch 19/20\n",
      "Train Loss: 0.0348, Train Accuracy: 98.73%\n",
      "Epoch 20/20\n",
      "Train Loss: 0.0363, Train Accuracy: 98.69%\n"
     ]
    }
   ],
   "source": [
    "train_model(\n",
    "    model=cnn_model,\n",
    "    train_loader=train_loader,\n",
    "    loss_func=loss_func,\n",
    "    optimizer=optimizer,\n",
    "    device=device,\n",
    "    epochs=20, \n",
    "    writer=writer\n",
    ")"
   ]
  },
  {
   "cell_type": "code",
   "execution_count": 14,
   "metadata": {},
   "outputs": [
    {
     "data": {
      "text/plain": [
       "(0.4526388538633562, 91.99)"
      ]
     },
     "execution_count": 14,
     "metadata": {},
     "output_type": "execute_result"
    }
   ],
   "source": [
    "evaluate(\n",
    "    model=cnn_model,\n",
    "    data_loader=test_loader,\n",
    "    loss_func=loss_func,\n",
    "    device=device\n",
    ")"
   ]
  },
  {
   "cell_type": "code",
   "execution_count": 15,
   "metadata": {},
   "outputs": [],
   "source": [
    "# Save model weights only\n",
    "save_path = Path(\"../models/cnn_fashionmnist_epoch20.pth\")\n",
    "torch.save(cnn_model.state_dict(), save_path)"
   ]
  },
  {
   "cell_type": "code",
   "execution_count": null,
   "metadata": {},
   "outputs": [],
   "source": []
  }
 ],
 "metadata": {
  "kernelspec": {
   "display_name": "fashion-mnist-classifier-venv",
   "language": "python",
   "name": "python3"
  },
  "language_info": {
   "codemirror_mode": {
    "name": "ipython",
    "version": 3
   },
   "file_extension": ".py",
   "mimetype": "text/x-python",
   "name": "python",
   "nbconvert_exporter": "python",
   "pygments_lexer": "ipython3",
   "version": "3.12.9"
  }
 },
 "nbformat": 4,
 "nbformat_minor": 2
}
